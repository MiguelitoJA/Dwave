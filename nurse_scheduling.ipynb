{
 "cells": [
  {
   "cell_type": "markdown",
   "metadata": {},
   "source": [
    "### Resolución del Nurse scheduling problem"
   ]
  },
  {
   "cell_type": "code",
   "execution_count": null,
   "metadata": {},
   "outputs": [],
   "source": [
    "data = {\n",
    "    'Nurses': {\n",
    "        'Nurse1': {\n",
    "            'working_days': 1,\n",
    "            'effort_level': 1,\n",
    "        },\n",
    "        'Nurse2': {\n",
    "            'working_days': 1,\n",
    "            'effort_level': 4,\n",
    "        },\n",
    "        'Nurse3': {\n",
    "            'working_days': 2,\n",
    "            'effort_level': 2,\n",
    "        },\n",
    "        'Nurse4': {\n",
    "            'working_days': 2,\n",
    "            'effort_level': 3,\n",
    "        }\n",
    "    },\n",
    "    'Days':{\n",
    "        'Day1': {\n",
    "            'demand': 5,\n",
    "        },\n",
    "        'Day2': {\n",
    "            'demand': 5,\n",
    "        },\n",
    "        'Day3': {\n",
    "            'demand': 5,\n",
    "        }\n",
    "    }\n",
    "}\n",
    "\n",
    "## Para un problema de mayor tamaño\n",
    "\n",
    "data_big = {\n",
    "    'Nurses': {\n",
    "        'Nurse1': {\n",
    "            'working_days': 1,\n",
    "            'effort_level': 1,\n",
    "        },\n",
    "        'Nurse2': {\n",
    "            'working_days': 2,\n",
    "            'effort_level': 4,\n",
    "        },\n",
    "        'Nurse3': {\n",
    "            'working_days': 4,\n",
    "            'effort_level': 2,\n",
    "        },\n",
    "        'Nurse4': {\n",
    "            'working_days': 4,\n",
    "            'effort_level': 3,\n",
    "        },\n",
    "        'Nurse5': {\n",
    "            'working_days': 2,\n",
    "            'effort_level': 1,\n",
    "        },\n",
    "        'Nurse6': {\n",
    "            'working_days': 2,\n",
    "            'effort_level': 4,\n",
    "        },\n",
    "        'Nurse7': {\n",
    "            'working_days': 1,\n",
    "            'effort_level': 2,\n",
    "        },\n",
    "        'Nurse8': {\n",
    "            'working_days': 2,\n",
    "            'effort_level': 3,\n",
    "        },\n",
    "        'Nurse9': {\n",
    "            'working_days': 2,\n",
    "            'effort_level': 2,\n",
    "        },\n",
    "        'Nurse10': {\n",
    "            'working_days': 1,\n",
    "            'effort_level': 4,\n",
    "        },\n",
    "        'Nurse11': {\n",
    "            'working_days': 2,\n",
    "            'effort_level': 4,\n",
    "        },\n",
    "        'Nurse12': {\n",
    "            'working_days': 1,\n",
    "            'effort_level': 3,\n",
    "        },\n",
    "        'Nurse13': {\n",
    "            'working_days': 2,\n",
    "            'effort_level': 4,\n",
    "        },\n",
    "        'Nurse14': {\n",
    "            'working_days': 2,\n",
    "            'effort_level': 1,\n",
    "        },\n",
    "        'Nurse15': {\n",
    "            'working_days': 3,\n",
    "            'effort_level': 3,\n",
    "        },\n",
    "        'Nurse16': {\n",
    "            'working_days': 2,\n",
    "            'effort_level': 4,\n",
    "        },\n",
    "        'Nurse17': {\n",
    "            'working_days': 2,\n",
    "            'effort_level': 1,\n",
    "        },\n",
    "        'Nurse18': {\n",
    "            'working_days': 1,\n",
    "            'effort_level': 3,\n",
    "        },\n",
    "        'Nurse19': {\n",
    "            'working_days': 3,\n",
    "            'effort_level': 4,\n",
    "        },\n",
    "        'Nurse20': {\n",
    "            'working_days': 2,\n",
    "            'effort_level': 1,\n",
    "        },\n",
    "        'Nurse21': {\n",
    "            'working_days': 1,\n",
    "            'effort_level': 2,\n",
    "        }\n",
    "    },\n",
    "    'Days':{\n",
    "        'Day1': {\n",
    "            'demand': 4,\n",
    "        },\n",
    "        'Day2': {\n",
    "            'demand': 4,\n",
    "        },\n",
    "        'Day3': {\n",
    "            'demand': 5,\n",
    "        },\n",
    "        'Day4': {\n",
    "            'demand': 3,\n",
    "        },\n",
    "        'Day5': {\n",
    "            'demand': 4,\n",
    "        },\n",
    "        'Day6': {\n",
    "            'demand': 2,\n",
    "        },\n",
    "        'Day7': {\n",
    "            'demand': 4,\n",
    "        },\n",
    "        'Day8': {\n",
    "            'demand': 5,\n",
    "        },\n",
    "        'Day9': {\n",
    "            'demand': 4,\n",
    "        },\n",
    "        'Day10': {\n",
    "            'demand': 5,\n",
    "        },\n",
    "        'Day11': {\n",
    "            'demand': 3,\n",
    "        },\n",
    "        'Day12': {\n",
    "            'demand': 4,\n",
    "        },\n",
    "        'Day13': {\n",
    "            'demand': 3,\n",
    "        },\n",
    "        'Day14': {\n",
    "            'demand': 5,\n",
    "        },\n",
    "        'Day15': {\n",
    "            'demand': 3,\n",
    "        },\n",
    "        'Day16': {\n",
    "            'demand': 4,\n",
    "        },\n",
    "        'Day17': {\n",
    "            'demand': 4,\n",
    "        }\n",
    "    }\n",
    "}"
   ]
  },
  {
   "cell_type": "markdown",
   "metadata": {},
   "source": [
    "Implementa el modelo QUBO utilizando el modelo `BinaryQuadraticModel` de la librería dimod (parte de la librería Ocean).\n",
    "\n",
    "[Documentación de Ocean sobre la clase BinaryQuadraticModel](https://docs.ocean.dwavesys.com/en/stable/docs_dimod/reference/models.html#module-dimod.binary.binary_quadratic_model)"
   ]
  },
  {
   "cell_type": "code",
   "execution_count": null,
   "metadata": {},
   "outputs": [],
   "source": [
    "# Instanciar un BQM vacío\n",
    "import dimod\n",
    "bqm = dimod.BinaryQuadraticModel.empty(dimod.BINARY)\n"
   ]
  },
  {
   "cell_type": "markdown",
   "metadata": {},
   "source": [
    "Añade las restricciones blandas."
   ]
  },
  {
   "cell_type": "code",
   "execution_count": null,
   "metadata": {},
   "outputs": [],
   "source": [
    "# Set soft nurse constraint\n"
   ]
  },
  {
   "cell_type": "markdown",
   "metadata": {},
   "source": [
    "Añade las restricciones duras de turno."
   ]
  },
  {
   "cell_type": "code",
   "execution_count": null,
   "metadata": {},
   "outputs": [],
   "source": [
    "# Set hard shift constraint\n"
   ]
  },
  {
   "cell_type": "markdown",
   "metadata": {},
   "source": [
    "Añade las restricciones duras de personal."
   ]
  },
  {
   "cell_type": "code",
   "execution_count": null,
   "metadata": {},
   "outputs": [],
   "source": [
    "# Set hard nurse constraint\n",
    "\n"
   ]
  },
  {
   "cell_type": "markdown",
   "metadata": {},
   "source": [
    "Resuélvelo con un solver cuántico (`dwave.system.DWaveSampler`), híbrido (`dwave.system.LeapHybridSampler`,`dwave.system.LeapHybridBQMSampler`), o clásico (`dimod.SimulatedAnnealingSampler`,`dimod.ExactSolver`,`dimod.ExactBQMSolver`)."
   ]
  },
  {
   "cell_type": "code",
   "execution_count": null,
   "metadata": {},
   "outputs": [],
   "source": [
    "dimod.SimulatedAnnealingSampler().sample(bqm).first.sample"
   ]
  },
  {
   "cell_type": "code",
   "execution_count": null,
   "metadata": {},
   "outputs": [],
   "source": [
    "dimod.SimulatedAnnealingSampler().sample(bqm)"
   ]
  },
  {
   "cell_type": "markdown",
   "metadata": {},
   "source": [
    "Crea una función que compruebe si se cumplen o no las restricciones. Si alguna se rompe, imprime por pantalla cuál es. Imprime también una interpretación de los resultados (el detalle de qué nurse trabaja cada día)."
   ]
  },
  {
   "cell_type": "code",
   "execution_count": null,
   "metadata": {},
   "outputs": [],
   "source": [
    "def check_and_print_solution(x,bqm):\n",
    "    # Escribe aquí tu código\n",
    "    # Check hard shift constraints\n",
    "\n",
    "\n",
    "    # Check hard nurse constraints\n",
    "    \n",
    "    # Check soft nurse constraints\n",
    "\n",
    "    # Interpret solution\n",
    "    pass"
   ]
  },
  {
   "cell_type": "code",
   "execution_count": null,
   "metadata": {},
   "outputs": [],
   "source": [
    "check_and_print_solution(dimod.SimulatedAnnealingSampler().sample(bqm).first.sample, bqm) "
   ]
  }
 ],
 "metadata": {
  "kernelspec": {
   "display_name": "modelos",
   "language": "python",
   "name": "python3"
  },
  "language_info": {
   "codemirror_mode": {
    "name": "ipython",
    "version": 3
   },
   "file_extension": ".py",
   "mimetype": "text/x-python",
   "name": "python",
   "nbconvert_exporter": "python",
   "pygments_lexer": "ipython3",
   "version": "3.12.8"
  }
 },
 "nbformat": 4,
 "nbformat_minor": 2
}
