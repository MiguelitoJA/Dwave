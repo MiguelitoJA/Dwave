{
 "cells": [
  {
   "cell_type": "markdown",
   "metadata": {},
   "source": [
    "### Instalación de dependencias\n",
    "Instala las librerías `pandas` y `openpyxl` para poder leer los datos de la tabla en formato excel que se aporta con la presente notebook. Puedes hacerlo ejecutando la siguiente celda directamente (asegúrate de haber inicializado tu entorno virtual de python para esta asignatura)."
   ]
  },
  {
   "cell_type": "code",
   "execution_count": null,
   "metadata": {},
   "outputs": [],
   "source": [
    "%pip install pandas\n",
    "%pip install openpyxl"
   ]
  },
  {
   "cell_type": "code",
   "execution_count": 1,
   "metadata": {},
   "outputs": [],
   "source": [
    "import pandas as pd\n",
    "import numpy as np"
   ]
  },
  {
   "cell_type": "markdown",
   "metadata": {},
   "source": [
    "### Carga los datos recogidos en el fichero `datos_porfolio_optimization.xlsx`"
   ]
  },
  {
   "cell_type": "code",
   "execution_count": 2,
   "metadata": {},
   "outputs": [],
   "source": [
    "datos = pd.read_excel('datos_porfolio_optimization.xlsx',index_col=0)"
   ]
  },
  {
   "cell_type": "code",
   "execution_count": 3,
   "metadata": {},
   "outputs": [
    {
     "data": {
      "text/html": [
       "<div>\n",
       "<style scoped>\n",
       "    .dataframe tbody tr th:only-of-type {\n",
       "        vertical-align: middle;\n",
       "    }\n",
       "\n",
       "    .dataframe tbody tr th {\n",
       "        vertical-align: top;\n",
       "    }\n",
       "\n",
       "    .dataframe thead th {\n",
       "        text-align: right;\n",
       "    }\n",
       "</style>\n",
       "<table border=\"1\" class=\"dataframe\">\n",
       "  <thead>\n",
       "    <tr style=\"text-align: right;\">\n",
       "      <th></th>\n",
       "      <th>Coste</th>\n",
       "      <th>ROI</th>\n",
       "    </tr>\n",
       "    <tr>\n",
       "      <th>Empresa</th>\n",
       "      <th></th>\n",
       "      <th></th>\n",
       "    </tr>\n",
       "  </thead>\n",
       "  <tbody>\n",
       "    <tr>\n",
       "      <th>Empresa A</th>\n",
       "      <td>5</td>\n",
       "      <td>8</td>\n",
       "    </tr>\n",
       "    <tr>\n",
       "      <th>Empresa B</th>\n",
       "      <td>1</td>\n",
       "      <td>2</td>\n",
       "    </tr>\n",
       "    <tr>\n",
       "      <th>Empresa C</th>\n",
       "      <td>2</td>\n",
       "      <td>1</td>\n",
       "    </tr>\n",
       "    <tr>\n",
       "      <th>Empresa D</th>\n",
       "      <td>6</td>\n",
       "      <td>5</td>\n",
       "    </tr>\n",
       "    <tr>\n",
       "      <th>Empresa E</th>\n",
       "      <td>7</td>\n",
       "      <td>8</td>\n",
       "    </tr>\n",
       "    <tr>\n",
       "      <th>Empresa F</th>\n",
       "      <td>3</td>\n",
       "      <td>2</td>\n",
       "    </tr>\n",
       "    <tr>\n",
       "      <th>Empresa G</th>\n",
       "      <td>6</td>\n",
       "      <td>2</td>\n",
       "    </tr>\n",
       "    <tr>\n",
       "      <th>Empresa H</th>\n",
       "      <td>8</td>\n",
       "      <td>7</td>\n",
       "    </tr>\n",
       "    <tr>\n",
       "      <th>Empresa I</th>\n",
       "      <td>2</td>\n",
       "      <td>6</td>\n",
       "    </tr>\n",
       "  </tbody>\n",
       "</table>\n",
       "</div>"
      ],
      "text/plain": [
       "           Coste  ROI\n",
       "Empresa              \n",
       "Empresa A      5    8\n",
       "Empresa B      1    2\n",
       "Empresa C      2    1\n",
       "Empresa D      6    5\n",
       "Empresa E      7    8\n",
       "Empresa F      3    2\n",
       "Empresa G      6    2\n",
       "Empresa H      8    7\n",
       "Empresa I      2    6"
      ]
     },
     "execution_count": 3,
     "metadata": {},
     "output_type": "execute_result"
    }
   ],
   "source": [
    "datos"
   ]
  },
  {
   "cell_type": "markdown",
   "metadata": {},
   "source": [
    "Definimos\n",
    "$x_i=1$ si y sólo si el objecto $i$ es seleccionado; $v_i$ es el valor que aporta el recurso $i$ y $c_i$, su coste. Además, $B$ es el presupuesto total del que se dispone. Entonces, el problema de la mochila se expresa como:\n",
    "\n",
    "$$\\max \\sum_i x_i v_i$$\n",
    "$$s.t.\\; \\sum x_i c_i \\leq B$$\n",
    "\n",
    "Para facilitar su resolución, primero vamos a simpliicar la restricción $\\sum x_i c_i \\leq B \\rightarrow \\sum x_i c_i = B$. Esto se corresponde con imponer que sólo se podrán elegir conjuntos de activos cuyo valor total sea exactamente igual al presupuesto disponible (lo cual no es una situación totalmente realista).\n",
    "\n",
    "**Implementa la función QUBO asociada a este problema y resuélvela con un solver de DWave (clásico, híbrido o cuántico).**\n"
   ]
  },
  {
   "cell_type": "markdown",
   "metadata": {},
   "source": [
    "Es aconsejable implementar por separado las contribuciones de la función de coste y las de las restricciones. Así podremos evaluar el coste real de las soluciones proporcionadas por el solver, y determinar si es una solución factible. "
   ]
  },
  {
   "cell_type": "code",
   "execution_count": 4,
   "metadata": {},
   "outputs": [],
   "source": [
    "# Implementa la función generate_cost_matrix(datos) que genera la matriz correspondiente con la función de coste\n",
    "def generate_cost_matrix(datos):\n",
    "    Q_linear = np.zeros((len(datos),len(datos)))\n",
    "    # Tu código aquí\t\n",
    "    for i,empresa in enumerate(datos.index):\n",
    "        Q_linear[i,i] = -datos.loc[empresa,'ROI']\n",
    "\n",
    "    return Q_linear"
   ]
  },
  {
   "cell_type": "code",
   "execution_count": 5,
   "metadata": {},
   "outputs": [],
   "source": [
    "# Implementa la función generate_constraint_matrix(datos,presupuesto) que genera la matriz de restricciones\n",
    "def generate_constraint_matrix(datos,presupuesto):\n",
    "    Q_constraint = np.zeros((len(datos),len(datos)))\n",
    "    # Tu código aquí\n",
    "    # Añade la restricción de presupuesto\n",
    "    for i,empresa in enumerate(datos.index):\n",
    "        Q_constraint[i,i] -= 2*presupuesto*datos.loc[empresa,'Coste']\n",
    "        for j,empresa2 in enumerate(datos.index):\n",
    "            Q_constraint[i,j] += datos.loc[empresa,'Coste']*datos.loc[empresa2,'Coste']\n",
    "\n",
    "    return Q_constraint"
   ]
  },
  {
   "cell_type": "markdown",
   "metadata": {},
   "source": [
    "### Crea una función que compruebe sin una solución es factible (=que cumple las restricciones)\n",
    "Dada una solución (un vector de 0s y 1s), escribe una función que devuelva el valor `True` si es una solución factible (= si se cumple la restricción), y `False` en caso contrario."
   ]
  },
  {
   "cell_type": "code",
   "execution_count": 6,
   "metadata": {},
   "outputs": [],
   "source": [
    "def check_constraint(Q_constraint, x, presupuesto):\n",
    "    factible = False\n",
    "    # Tu código aquí\n",
    "    # Comprueba que se cumple la restricción de presupuesto\n",
    "\n",
    "    return x@Q_constraint@x == -presupuesto*presupuesto"
   ]
  },
  {
   "cell_type": "code",
   "execution_count": 7,
   "metadata": {},
   "outputs": [],
   "source": [
    "def interpret_solution(x,datos):\n",
    "    empresas = []\n",
    "    for i,empresa in enumerate(datos.index):\n",
    "        if x[i] == 1:\n",
    "            empresas.append(empresa)\n",
    "    return empresas"
   ]
  },
  {
   "cell_type": "code",
   "execution_count": 8,
   "metadata": {},
   "outputs": [],
   "source": [
    "from dimod import ExactSolver"
   ]
  },
  {
   "cell_type": "code",
   "execution_count": 9,
   "metadata": {},
   "outputs": [],
   "source": [
    "lagrange_multiplier = 10\n",
    "presupuesto = 20\n",
    "Q_linear = generate_cost_matrix(datos)\n",
    "Q_constraint = generate_constraint_matrix(datos,presupuesto)\n",
    "qubo = Q_linear + lagrange_multiplier*Q_constraint"
   ]
  },
  {
   "cell_type": "code",
   "execution_count": 10,
   "metadata": {},
   "outputs": [
    {
     "data": {
      "text/plain": [
       "{0: np.int8(1),\n",
       " 1: np.int8(1),\n",
       " 2: np.int8(1),\n",
       " 3: np.int8(0),\n",
       " 4: np.int8(1),\n",
       " 5: np.int8(1),\n",
       " 6: np.int8(0),\n",
       " 7: np.int8(0),\n",
       " 8: np.int8(1)}"
      ]
     },
     "execution_count": 10,
     "metadata": {},
     "output_type": "execute_result"
    }
   ],
   "source": [
    "exact_solver = ExactSolver()\n",
    "exact_solver.sample_qubo(qubo).first.sample"
   ]
  },
  {
   "cell_type": "code",
   "execution_count": 11,
   "metadata": {},
   "outputs": [
    {
     "data": {
      "text/plain": [
       "['Empresa A', 'Empresa B', 'Empresa C', 'Empresa E', 'Empresa F', 'Empresa I']"
      ]
     },
     "execution_count": 11,
     "metadata": {},
     "output_type": "execute_result"
    }
   ],
   "source": [
    "sol = np.array([(val) for val in exact_solver.sample_qubo(qubo).first.sample.values()])\n",
    "interpret_solution(sol,datos)"
   ]
  },
  {
   "cell_type": "code",
   "execution_count": 12,
   "metadata": {},
   "outputs": [
    {
     "data": {
      "text/plain": [
       "np.True_"
      ]
     },
     "execution_count": 12,
     "metadata": {},
     "output_type": "execute_result"
    }
   ],
   "source": [
    "check_constraint(Q_constraint, np.array([(val) for val in exact_solver.sample_qubo(qubo).first.sample.values()]), presupuesto)"
   ]
  },
  {
   "cell_type": "markdown",
   "metadata": {},
   "source": [
    "### Crea una función que genere la matriz qubo correspondiente con la restricción de desigualdad de presupuesto\n",
    "$$\\sum_i coste_i \\cdot x_i \\leq presupuesto$$"
   ]
  },
  {
   "cell_type": "code",
   "execution_count": 13,
   "metadata": {},
   "outputs": [],
   "source": [
    "def generate_inequality_constraint_matrix(datos,presupuesto):\n",
    "    # Calcula la cota superior del slack\n",
    "    bound_slack = presupuesto-min(datos['Coste'])\n",
    "\n",
    "    # Calcula el número de bits necesarios para representar el slack en binario\n",
    "    slack_binary = np.ceil(np.log2(bound_slack)).astype(int)\n",
    "    n = len(datos)+slack_binary\n",
    "\n",
    "    # Es posible que lo más fácil sea añadir el slack como una nueva variable\n",
    "    # con coste 2^j para j=0,1,...,slack_binary\n",
    "    Coste = datos['Coste'].to_list() + [2**j for j in range(slack_binary)]\n",
    "\n",
    "    Q_constraint = np.zeros((n,n))  \n",
    "    for i in range(n):\n",
    "        Q_constraint[i,i] -= 2*presupuesto*Coste[i]\n",
    "        for j in range(n):\n",
    "            Q_constraint[i,j] += Coste[i]*Coste[j]\n",
    "\n",
    "    return Q_constraint\n",
    "\n",
    "Q_inequality = generate_inequality_constraint_matrix(datos,presupuesto=10)"
   ]
  },
  {
   "cell_type": "markdown",
   "metadata": {},
   "source": [
    "#### Para el término lineal puedes reutilizar tu implementación anterior"
   ]
  },
  {
   "cell_type": "code",
   "execution_count": 14,
   "metadata": {},
   "outputs": [],
   "source": [
    "Q_linear_inequality = np.zeros(Q_inequality.shape)"
   ]
  },
  {
   "cell_type": "code",
   "execution_count": 15,
   "metadata": {},
   "outputs": [],
   "source": [
    "Q_linear_inequality[:len(datos),:len(datos)] = generate_cost_matrix(datos)"
   ]
  },
  {
   "cell_type": "markdown",
   "metadata": {},
   "source": [
    "### ¿Tienes que modificar tu función de comprobación de la restricción?"
   ]
  },
  {
   "cell_type": "markdown",
   "metadata": {},
   "source": [
    "### Resuelve el problema con la restricción de desigualdad y analiza la factibilidad de las soluciones devueltas por el solver"
   ]
  },
  {
   "cell_type": "code",
   "execution_count": 16,
   "metadata": {},
   "outputs": [
    {
     "data": {
      "text/plain": [
       "{0: np.int8(1),\n",
       " 1: np.int8(1),\n",
       " 2: np.int8(1),\n",
       " 3: np.int8(0),\n",
       " 4: np.int8(0),\n",
       " 5: np.int8(0),\n",
       " 6: np.int8(0),\n",
       " 7: np.int8(0),\n",
       " 8: np.int8(1),\n",
       " 9: np.int8(0),\n",
       " 10: np.int8(0),\n",
       " 11: np.int8(0),\n",
       " 12: np.int8(0)}"
      ]
     },
     "execution_count": 16,
     "metadata": {},
     "output_type": "execute_result"
    }
   ],
   "source": [
    "import dimod\n",
    "sampler = dimod.ExactSolver()\n",
    "sampler.sample_qubo(Q_inequality+Q_linear_inequality).first.sample"
   ]
  },
  {
   "cell_type": "code",
   "execution_count": 17,
   "metadata": {},
   "outputs": [],
   "source": [
    "import dimod"
   ]
  },
  {
   "cell_type": "markdown",
   "metadata": {},
   "source": [
    "### Resolución con `dimod.BinaryQuadraticModel`"
   ]
  },
  {
   "cell_type": "code",
   "execution_count": 18,
   "metadata": {},
   "outputs": [],
   "source": [
    "bqm = dimod.BinaryQuadraticModel({},{},0,dimod.BINARY)\n",
    "\n",
    "# Añade la función de coste\n",
    "for i in range(len(datos)):\n",
    "    bqm.add_variable(i,-datos.loc[datos.index[i],'ROI'])\n",
    "\n",
    "# Añade la restricción de presupuesto\n",
    "terms = [(i,datos.loc[datos.index[i],'Coste']) for i in range(len(datos))]\n",
    "bqm.add_linear_equality_constraint(terms, constant=-presupuesto, lagrange_multiplier=lagrange_multiplier)"
   ]
  },
  {
   "cell_type": "code",
   "execution_count": 19,
   "metadata": {},
   "outputs": [
    {
     "data": {
      "text/plain": [
       "({(1, 0): np.float64(100.0),\n",
       "  (2, 0): np.float64(200.0),\n",
       "  (2, 1): np.float64(40.0),\n",
       "  (3, 0): np.float64(600.0),\n",
       "  (3, 1): np.float64(120.0),\n",
       "  (3, 2): np.float64(240.0),\n",
       "  (4, 0): np.float64(700.0),\n",
       "  (4, 1): np.float64(140.0),\n",
       "  (4, 2): np.float64(280.0),\n",
       "  (4, 3): np.float64(840.0),\n",
       "  (5, 0): np.float64(300.0),\n",
       "  (5, 1): np.float64(60.0),\n",
       "  (5, 2): np.float64(120.0),\n",
       "  (5, 3): np.float64(360.0),\n",
       "  (5, 4): np.float64(420.0),\n",
       "  (6, 0): np.float64(600.0),\n",
       "  (6, 1): np.float64(120.0),\n",
       "  (6, 2): np.float64(240.0),\n",
       "  (6, 3): np.float64(720.0),\n",
       "  (6, 4): np.float64(840.0),\n",
       "  (6, 5): np.float64(360.0),\n",
       "  (7, 0): np.float64(800.0),\n",
       "  (7, 1): np.float64(160.0),\n",
       "  (7, 2): np.float64(320.0),\n",
       "  (7, 3): np.float64(960.0),\n",
       "  (7, 4): np.float64(1120.0),\n",
       "  (7, 5): np.float64(480.0),\n",
       "  (7, 6): np.float64(960.0),\n",
       "  (8, 0): np.float64(200.0),\n",
       "  (8, 1): np.float64(40.0),\n",
       "  (8, 2): np.float64(80.0),\n",
       "  (8, 3): np.float64(240.0),\n",
       "  (8, 4): np.float64(280.0),\n",
       "  (8, 5): np.float64(120.0),\n",
       "  (8, 6): np.float64(240.0),\n",
       "  (8, 7): np.float64(320.0),\n",
       "  (0, 0): np.float64(-1758.0),\n",
       "  (1, 1): np.float64(-392.0),\n",
       "  (2, 2): np.float64(-761.0),\n",
       "  (3, 3): np.float64(-2045.0),\n",
       "  (4, 4): np.float64(-2318.0),\n",
       "  (5, 5): np.float64(-1112.0),\n",
       "  (6, 6): np.float64(-2042.0),\n",
       "  (7, 7): np.float64(-2567.0),\n",
       "  (8, 8): np.float64(-766.0)},\n",
       " np.float64(4000.0))"
      ]
     },
     "execution_count": 19,
     "metadata": {},
     "output_type": "execute_result"
    }
   ],
   "source": [
    "bqm.to_qubo()\n",
    "# bqm.to_numpy_matrix()"
   ]
  },
  {
   "cell_type": "code",
   "execution_count": 20,
   "metadata": {},
   "outputs": [
    {
     "data": {
      "text/plain": [
       "[]"
      ]
     },
     "execution_count": 20,
     "metadata": {},
     "output_type": "execute_result"
    }
   ],
   "source": [
    "bqm.add_linear_inequality_constraint(terms,constant=-presupuesto, label='ineq',lb=0,ub=0,lagrange_multiplier=10.0)"
   ]
  },
  {
   "cell_type": "code",
   "execution_count": 21,
   "metadata": {},
   "outputs": [
    {
     "data": {
      "text/plain": [
       "({(1, 0): np.float64(200.0),\n",
       "  (2, 0): np.float64(400.0),\n",
       "  (2, 1): np.float64(80.0),\n",
       "  (3, 0): np.float64(1200.0),\n",
       "  (3, 1): np.float64(240.0),\n",
       "  (3, 2): np.float64(480.0),\n",
       "  (4, 0): np.float64(1400.0),\n",
       "  (4, 1): np.float64(280.0),\n",
       "  (4, 2): np.float64(560.0),\n",
       "  (4, 3): np.float64(1680.0),\n",
       "  (5, 0): np.float64(600.0),\n",
       "  (5, 1): np.float64(120.0),\n",
       "  (5, 2): np.float64(240.0),\n",
       "  (5, 3): np.float64(720.0),\n",
       "  (5, 4): np.float64(840.0),\n",
       "  (6, 0): np.float64(1200.0),\n",
       "  (6, 1): np.float64(240.0),\n",
       "  (6, 2): np.float64(480.0),\n",
       "  (6, 3): np.float64(1440.0),\n",
       "  (6, 4): np.float64(1680.0),\n",
       "  (6, 5): np.float64(720.0),\n",
       "  (7, 0): np.float64(1600.0),\n",
       "  (7, 1): np.float64(320.0),\n",
       "  (7, 2): np.float64(640.0),\n",
       "  (7, 3): np.float64(1920.0),\n",
       "  (7, 4): np.float64(2240.0),\n",
       "  (7, 5): np.float64(960.0),\n",
       "  (7, 6): np.float64(1920.0),\n",
       "  (8, 0): np.float64(400.0),\n",
       "  (8, 1): np.float64(80.0),\n",
       "  (8, 2): np.float64(160.0),\n",
       "  (8, 3): np.float64(480.0),\n",
       "  (8, 4): np.float64(560.0),\n",
       "  (8, 5): np.float64(240.0),\n",
       "  (8, 6): np.float64(480.0),\n",
       "  (8, 7): np.float64(640.0),\n",
       "  (0, 0): np.float64(-3508.0),\n",
       "  (1, 1): np.float64(-782.0),\n",
       "  (2, 2): np.float64(-1521.0),\n",
       "  (3, 3): np.float64(-4085.0),\n",
       "  (4, 4): np.float64(-4628.0),\n",
       "  (5, 5): np.float64(-2222.0),\n",
       "  (6, 6): np.float64(-4082.0),\n",
       "  (7, 7): np.float64(-5127.0),\n",
       "  (8, 8): np.float64(-1526.0)},\n",
       " np.float64(8000.0))"
      ]
     },
     "execution_count": 21,
     "metadata": {},
     "output_type": "execute_result"
    }
   ],
   "source": [
    "bqm.to_qubo()"
   ]
  },
  {
   "cell_type": "markdown",
   "metadata": {},
   "source": [
    "### Juega con el embedding\n",
    "\n",
    "Usando las herramientas proporcionadas en el módulo `minorminor` (en particular la función `minorminer.find_embedding`), encuentra un embedding para el problema que estás resolviendo y resuélvelo sobre la QPU real ajustando los pesos de las cadenas de qubits."
   ]
  }
 ],
 "metadata": {
  "kernelspec": {
   "display_name": "modelos_computacion",
   "language": "python",
   "name": "python3"
  },
  "language_info": {
   "codemirror_mode": {
    "name": "ipython",
    "version": 3
   },
   "file_extension": ".py",
   "mimetype": "text/x-python",
   "name": "python",
   "nbconvert_exporter": "python",
   "pygments_lexer": "ipython3",
   "version": "3.12.8"
  }
 },
 "nbformat": 4,
 "nbformat_minor": 2
}
