{
 "cells": [
  {
   "cell_type": "markdown",
   "metadata": {},
   "source": [
    "### Instalación de dependencias\n",
    "Instala las librerías `pandas` y `openpyxl` para poder leer los datos de la tabla en formato excel que se aporta con la presente notebook. Puedes hacerlo ejecutando la siguiente celda directamente (asegúrate de haber inicializado tu entorno virtual de python para esta asignatura)."
   ]
  },
  {
   "cell_type": "code",
   "execution_count": null,
   "metadata": {},
   "outputs": [],
   "source": [
    "%pip install pandas\n",
    "%pip install openpyxl"
   ]
  },
  {
   "cell_type": "code",
   "execution_count": 1,
   "metadata": {},
   "outputs": [],
   "source": [
    "import pandas as pd\n",
    "import numpy as np"
   ]
  },
  {
   "cell_type": "markdown",
   "metadata": {},
   "source": [
    "### Carga los datos recogidos en el fichero `datos_porfolio_optimization.xlsx`"
   ]
  },
  {
   "cell_type": "code",
   "execution_count": 2,
   "metadata": {},
   "outputs": [],
   "source": [
    "datos = pd.read_excel('datos_porfolio_optimization.xlsx',index_col=0)"
   ]
  },
  {
   "cell_type": "code",
   "execution_count": 3,
   "metadata": {},
   "outputs": [
    {
     "data": {
      "text/html": [
       "<div>\n",
       "<style scoped>\n",
       "    .dataframe tbody tr th:only-of-type {\n",
       "        vertical-align: middle;\n",
       "    }\n",
       "\n",
       "    .dataframe tbody tr th {\n",
       "        vertical-align: top;\n",
       "    }\n",
       "\n",
       "    .dataframe thead th {\n",
       "        text-align: right;\n",
       "    }\n",
       "</style>\n",
       "<table border=\"1\" class=\"dataframe\">\n",
       "  <thead>\n",
       "    <tr style=\"text-align: right;\">\n",
       "      <th></th>\n",
       "      <th>Coste</th>\n",
       "      <th>ROI</th>\n",
       "    </tr>\n",
       "    <tr>\n",
       "      <th>Empresa</th>\n",
       "      <th></th>\n",
       "      <th></th>\n",
       "    </tr>\n",
       "  </thead>\n",
       "  <tbody>\n",
       "    <tr>\n",
       "      <th>Empresa A</th>\n",
       "      <td>5</td>\n",
       "      <td>8</td>\n",
       "    </tr>\n",
       "    <tr>\n",
       "      <th>Empresa B</th>\n",
       "      <td>1</td>\n",
       "      <td>2</td>\n",
       "    </tr>\n",
       "    <tr>\n",
       "      <th>Empresa C</th>\n",
       "      <td>2</td>\n",
       "      <td>1</td>\n",
       "    </tr>\n",
       "    <tr>\n",
       "      <th>Empresa D</th>\n",
       "      <td>6</td>\n",
       "      <td>5</td>\n",
       "    </tr>\n",
       "    <tr>\n",
       "      <th>Empresa E</th>\n",
       "      <td>7</td>\n",
       "      <td>8</td>\n",
       "    </tr>\n",
       "    <tr>\n",
       "      <th>Empresa F</th>\n",
       "      <td>3</td>\n",
       "      <td>2</td>\n",
       "    </tr>\n",
       "    <tr>\n",
       "      <th>Empresa G</th>\n",
       "      <td>6</td>\n",
       "      <td>2</td>\n",
       "    </tr>\n",
       "    <tr>\n",
       "      <th>Empresa H</th>\n",
       "      <td>8</td>\n",
       "      <td>7</td>\n",
       "    </tr>\n",
       "    <tr>\n",
       "      <th>Empresa I</th>\n",
       "      <td>2</td>\n",
       "      <td>6</td>\n",
       "    </tr>\n",
       "  </tbody>\n",
       "</table>\n",
       "</div>"
      ],
      "text/plain": [
       "           Coste  ROI\n",
       "Empresa              \n",
       "Empresa A      5    8\n",
       "Empresa B      1    2\n",
       "Empresa C      2    1\n",
       "Empresa D      6    5\n",
       "Empresa E      7    8\n",
       "Empresa F      3    2\n",
       "Empresa G      6    2\n",
       "Empresa H      8    7\n",
       "Empresa I      2    6"
      ]
     },
     "execution_count": 3,
     "metadata": {},
     "output_type": "execute_result"
    }
   ],
   "source": [
    "datos"
   ]
  },
  {
   "cell_type": "markdown",
   "metadata": {},
   "source": [
    "Definimos\n",
    "$x_i=1$ si y sólo si el objecto $i$ es seleccionado; $v_i$ es el valor que aporta el recurso $i$ y $c_i$, su coste. Además, $B$ es el presupuesto total del que se dispone. Entonces, el problema de la mochila se expresa como:\n",
    "\n",
    "$$\\max \\sum_i x_i v_i$$\n",
    "$$s.t.\\; \\sum x_i c_i \\leq B$$\n",
    "\n",
    "Para facilitar su resolución, primero vamos a simpliicar la restricción $\\sum x_i c_i \\leq B \\rightarrow \\sum x_i c_i = B$. Esto se corresponde con imponer que sólo se podrán elegir conjuntos de activos cuyo valor total sea exactamente igual al presupuesto disponible (lo cual no es una situación totalmente realista).\n",
    "\n",
    "**Implementa la función QUBO asociada a este problema y resuélvela con un solver de DWave (clásico, híbrido o cuántico).**\n"
   ]
  },
  {
   "cell_type": "markdown",
   "metadata": {},
   "source": [
    "Es aconsejable implementar por separado las contribuciones de la función de coste y las de las restricciones. Así podremos evaluar el coste real de las soluciones proporcionadas por el solver, y determinar si es una solución factible. "
   ]
  },
  {
   "cell_type": "code",
   "execution_count": 4,
   "metadata": {},
   "outputs": [],
   "source": [
    "# Implementa la función generate_cost_matrix(datos) que genera la matriz correspondiente con la función de coste\n",
    "def generate_cost_matrix(datos):\n",
    "    Q_linear = np.zeros((len(datos),len(datos)))\n",
    "    # Tu código aquí\t\n",
    "    for i,empresa in enumerate(datos.index):\n",
    "        Q_linear[i,i] = -datos.loc[empresa,'ROI']\n",
    "\n",
    "    return Q_linear"
   ]
  },
  {
   "cell_type": "code",
   "execution_count": 5,
   "metadata": {},
   "outputs": [],
   "source": [
    "# Implementa la función generate_constraint_matrix(datos,presupuesto) que genera la matriz de restricciones\n",
    "def generate_constraint_matrix(datos,presupuesto):\n",
    "    Q_constraint = np.zeros((len(datos),len(datos)))\n",
    "    # Tu código aquí\n",
    "    # Añade la restricción de presupuesto\n",
    "    for i,empresa in enumerate(datos.index):\n",
    "        Q_constraint[i,i] -= 2*presupuesto*datos.loc[empresa,'Coste']\n",
    "        for j,empresa2 in enumerate(datos.index):\n",
    "            Q_constraint[i,j] += datos.loc[empresa,'Coste']*datos.loc[empresa2,'Coste']\n",
    "\n",
    "    return Q_constraint"
   ]
  },
  {
   "cell_type": "markdown",
   "metadata": {},
   "source": [
    "### Crea una función que compruebe sin una solución es factible (=que cumple las restricciones)\n",
    "Dada una solución (un vector de 0s y 1s), escribe una función que devuelva el valor `True` si es una solución factible (= si se cumple la restricción), y `False` en caso contrario."
   ]
  },
  {
   "cell_type": "code",
   "execution_count": 6,
   "metadata": {},
   "outputs": [],
   "source": [
    "def check_constraint(Q_constraint, x, presupuesto):\n",
    "    factible = False\n",
    "    # Tu código aquí\n",
    "    # Comprueba que se cumple la restricción de presupuesto\n",
    "\n",
    "    return x@Q_constraint@x == -presupuesto*presupuesto"
   ]
  },
  {
   "cell_type": "code",
   "execution_count": 7,
   "metadata": {},
   "outputs": [],
   "source": [
    "def interpret_solution(x,datos):\n",
    "    empresas = []\n",
    "    for i,empresa in enumerate(datos.index):\n",
    "        if x[i] == 1:\n",
    "            empresas.append(empresa)\n",
    "    return empresas"
   ]
  },
  {
   "cell_type": "code",
   "execution_count": 8,
   "metadata": {},
   "outputs": [],
   "source": [
    "from dimod import ExactSolver"
   ]
  },
  {
   "cell_type": "code",
   "execution_count": 9,
   "metadata": {},
   "outputs": [],
   "source": [
    "lagrange_multiplier = 10\n",
    "presupuesto = 20\n",
    "Q_linear = generate_cost_matrix(datos)\n",
    "Q_constraint = generate_constraint_matrix(datos,presupuesto)\n",
    "qubo = Q_linear + lagrange_multiplier*Q_constraint"
   ]
  },
  {
   "cell_type": "code",
   "execution_count": 10,
   "metadata": {},
   "outputs": [
    {
     "data": {
      "text/plain": [
       "{0: np.int8(1),\n",
       " 1: np.int8(1),\n",
       " 2: np.int8(1),\n",
       " 3: np.int8(0),\n",
       " 4: np.int8(1),\n",
       " 5: np.int8(1),\n",
       " 6: np.int8(0),\n",
       " 7: np.int8(0),\n",
       " 8: np.int8(1)}"
      ]
     },
     "execution_count": 10,
     "metadata": {},
     "output_type": "execute_result"
    }
   ],
   "source": [
    "exact_solver = ExactSolver()\n",
    "exact_solver.sample_qubo(qubo).first.sample"
   ]
  },
  {
   "cell_type": "code",
   "execution_count": 11,
   "metadata": {},
   "outputs": [
    {
     "data": {
      "text/plain": [
       "['Empresa A', 'Empresa B', 'Empresa C', 'Empresa E', 'Empresa F', 'Empresa I']"
      ]
     },
     "execution_count": 11,
     "metadata": {},
     "output_type": "execute_result"
    }
   ],
   "source": [
    "sol = np.array([(val) for val in exact_solver.sample_qubo(qubo).first.sample.values()])\n",
    "interpret_solution(sol,datos)"
   ]
  },
  {
   "cell_type": "code",
   "execution_count": 12,
   "metadata": {},
   "outputs": [
    {
     "data": {
      "text/plain": [
       "np.True_"
      ]
     },
     "execution_count": 12,
     "metadata": {},
     "output_type": "execute_result"
    }
   ],
   "source": [
    "check_constraint(Q_constraint, np.array([(val) for val in exact_solver.sample_qubo(qubo).first.sample.values()]), presupuesto)"
   ]
  },
  {
   "cell_type": "markdown",
   "metadata": {},
   "source": [
    "### Crea una función que genere la matriz qubo correspondiente con la restricción de desigualdad de presupuesto\n",
    "$$\\sum_i coste_i \\cdot x_i \\leq presupuesto$$"
   ]
  },
  {
   "cell_type": "code",
   "execution_count": 20,
   "metadata": {},
   "outputs": [
    {
     "name": "stderr",
     "output_type": "stream",
     "text": [
      "C:\\Users\\mikel\\AppData\\Local\\Temp\\ipykernel_9312\\2493614343.py:39: FutureWarning: Series.__getitem__ treating keys as positions is deprecated. In a future version, integer keys will always be treated as labels (consistent with DataFrame behavior). To access a value by position, use `ser.iloc[pos]`\n",
      "  Q_constraint[i][j] = datos[\"Coste\"][i]**2-2*bound_slack*datos[\"Coste\"][i]\n",
      "C:\\Users\\mikel\\AppData\\Local\\Temp\\ipykernel_9312\\2493614343.py:45: FutureWarning: Series.__getitem__ treating keys as positions is deprecated. In a future version, integer keys will always be treated as labels (consistent with DataFrame behavior). To access a value by position, use `ser.iloc[pos]`\n",
      "  Q_constraint[i][j] = 2*datos[\"Coste\"][i]*datos[\"Coste\"][j]\n",
      "C:\\Users\\mikel\\AppData\\Local\\Temp\\ipykernel_9312\\2493614343.py:49: FutureWarning: Series.__getitem__ treating keys as positions is deprecated. In a future version, integer keys will always be treated as labels (consistent with DataFrame behavior). To access a value by position, use `ser.iloc[pos]`\n",
      "  Q_constraint[i][j] = 2*datos[\"Coste\"][i]*Coste[j-len(datos)]\n"
     ]
    },
    {
     "ename": "IndexError",
     "evalue": "list index out of range",
     "output_type": "error",
     "traceback": [
      "\u001b[1;31m---------------------------------------------------------------------------\u001b[0m",
      "\u001b[1;31mIndexError\u001b[0m                                Traceback (most recent call last)",
      "Cell \u001b[1;32mIn[20], line 69\u001b[0m\n\u001b[0;32m     63\u001b[0m         Q_constraint[i][j] \u001b[38;5;241m=\u001b[39m \u001b[38;5;241m0\u001b[39m\n\u001b[0;32m     65\u001b[0m     \u001b[38;5;28;01mreturn\u001b[39;00m Q_constraint\n\u001b[1;32m---> 69\u001b[0m Q_inequality \u001b[38;5;241m=\u001b[39m \u001b[43mgenerate_inequality_constraint_matrix\u001b[49m\u001b[43m(\u001b[49m\u001b[43mdatos\u001b[49m\u001b[43m,\u001b[49m\u001b[43mpresupuesto\u001b[49m\u001b[38;5;241;43m=\u001b[39;49m\u001b[38;5;241;43m4\u001b[39;49m\u001b[43m)\u001b[49m\n",
      "Cell \u001b[1;32mIn[20], line 59\u001b[0m, in \u001b[0;36mgenerate_inequality_constraint_matrix\u001b[1;34m(datos, presupuesto)\u001b[0m\n\u001b[0;32m     55\u001b[0m         Q_constraint[i][j] \u001b[38;5;241m=\u001b[39m Coste[i]\u001b[38;5;241m*\u001b[39m\u001b[38;5;241m*\u001b[39m\u001b[38;5;241m2\u001b[39m\u001b[38;5;241m-\u001b[39m\u001b[38;5;241m2\u001b[39m\u001b[38;5;241m*\u001b[39mbound_slack\u001b[38;5;241m*\u001b[39mCoste[i]\n\u001b[0;32m     57\u001b[0m     \u001b[38;5;28;01melse\u001b[39;00m:   \u001b[38;5;66;03m#s_i*s_j\u001b[39;00m\n\u001b[1;32m---> 59\u001b[0m       Q_constraint[i][j] \u001b[38;5;241m=\u001b[39m \u001b[38;5;241m2\u001b[39m\u001b[38;5;241m*\u001b[39mCoste[i\u001b[38;5;241m-\u001b[39m\u001b[38;5;28mlen\u001b[39m(datos)]\u001b[38;5;241m*\u001b[39m\u001b[43mCoste\u001b[49m\u001b[43m[\u001b[49m\u001b[43mj\u001b[49m\u001b[38;5;241;43m-\u001b[39;49m\u001b[38;5;28;43mlen\u001b[39;49m\u001b[43m(\u001b[49m\u001b[43mdatos\u001b[49m\u001b[43m)\u001b[49m\u001b[43m]\u001b[49m\n\u001b[0;32m     61\u001b[0m \u001b[38;5;28;01melse\u001b[39;00m:   \u001b[38;5;66;03m#Triangular inferior\u001b[39;00m\n\u001b[0;32m     63\u001b[0m   Q_constraint[i][j] \u001b[38;5;241m=\u001b[39m \u001b[38;5;241m0\u001b[39m\n",
      "\u001b[1;31mIndexError\u001b[0m: list index out of range"
     ]
    }
   ],
   "source": [
    "def generate_inequality_constraint_matrix(datos,presupuesto):\n",
    "\n",
    "    # Calcula la cota superior del slack\n",
    "\n",
    "    bound_slack = presupuesto - min(datos[\"Coste\"])\n",
    "\n",
    "    # Calcula el número de bits necesarios para representar el slack en binario\n",
    "\n",
    "    slack_binary = presupuesto.bit_length()\n",
    "\n",
    "    n = len(datos)+slack_binary\n",
    "\n",
    "\n",
    "\n",
    "    # Es posible que lo más fácil sea añadir el slack como una nueva variable\n",
    "\n",
    "    # con coste igual a sus coeficiente correspondiente\n",
    "\n",
    "    Coste = []\n",
    "\n",
    "    for i in range(slack_binary):\n",
    "\n",
    "      Coste.append(2**i)\n",
    "\n",
    "\n",
    "\n",
    "    Q_constraint = np.zeros((n,n))\n",
    "\n",
    "    #Los primeros len (datos) son las x y los siguientes slack_binary son las s\n",
    "\n",
    "    for i in range(n):\n",
    "\n",
    "      for j in range(n):\n",
    "\n",
    "        if(i < len(datos)):  #x_i primero\n",
    "\n",
    "            if(i == j): #x_i^2\n",
    "\n",
    "              Q_constraint[i][j] = datos[\"Coste\"][i]**2-2*bound_slack*datos[\"Coste\"][i]\n",
    "\n",
    "            else:\n",
    "\n",
    "              if(j < len(datos)):   #x_i*x_j\n",
    "\n",
    "                Q_constraint[i][j] = 2*datos[\"Coste\"][i]*datos[\"Coste\"][j]\n",
    "\n",
    "              else: #x_i*s_j\n",
    "\n",
    "                Q_constraint[i][j] = 2*datos[\"Coste\"][i]*Coste[j-len(datos)]\n",
    "\n",
    "        else:   #s_i primero\n",
    "\n",
    "          if (i == j):  #s_i^2\n",
    "\n",
    "              Q_constraint[i][j] = Coste[i]**2-2*bound_slack*Coste[i]\n",
    "\n",
    "          else:   #s_i*s_j\n",
    "\n",
    "            Q_constraint[i][j] = 2*Coste[i-len(datos)]*Coste[j-len(datos)]\n",
    "\n",
    "      else:   #Triangular inferior\n",
    "\n",
    "        Q_constraint[i][j] = 0\n",
    "\n",
    "    return Q_constraint\n",
    "\n",
    "\n",
    "\n",
    "Q_inequality = generate_inequality_constraint_matrix(datos,presupuesto=4)"
   ]
  },
  {
   "cell_type": "markdown",
   "metadata": {},
   "source": [
    "#### Para el término lineal puedes reutilizar tu implementación anterior"
   ]
  },
  {
   "cell_type": "code",
   "execution_count": 188,
   "metadata": {},
   "outputs": [],
   "source": [
    "Q_linear_inequality = np.zeros(Q_inequality.shape)"
   ]
  },
  {
   "cell_type": "code",
   "execution_count": null,
   "metadata": {},
   "outputs": [],
   "source": [
    "Q_linear_inequality[:len(datos),:len(datos)] = generate_cost_matrix(datos)"
   ]
  },
  {
   "cell_type": "markdown",
   "metadata": {},
   "source": [
    "### ¿Tienes que modificar tu función de comprobación de la restricción?"
   ]
  },
  {
   "cell_type": "markdown",
   "metadata": {},
   "source": [
    "### Resuelve el problema con la restricción de desigualdad y analiza la factibilidad de las soluciones devueltas por el solver"
   ]
  },
  {
   "cell_type": "code",
   "execution_count": null,
   "metadata": {},
   "outputs": [],
   "source": [
    "import dimod\n",
    "sampler = dimod.ExactSolver()\n",
    "sampler.sample_qubo(Q_inequality+Q_linear_inequality).first.sample"
   ]
  },
  {
   "cell_type": "code",
   "execution_count": 23,
   "metadata": {},
   "outputs": [],
   "source": [
    "import dimod\n"
   ]
  },
  {
   "cell_type": "markdown",
   "metadata": {},
   "source": [
    "### Resolución con `dimod.BinaryQuadraticModel`"
   ]
  },
  {
   "cell_type": "code",
   "execution_count": null,
   "metadata": {},
   "outputs": [],
   "source": [
    "bqm = dimod.BinaryQuadraticModel({},{},0,dimod.BINARY)\n",
    "\n",
    "# Añade la función de coste\n",
    "\n",
    "# Añade la restricción de presupuesto\n"
   ]
  },
  {
   "cell_type": "code",
   "execution_count": 28,
   "metadata": {},
   "outputs": [
    {
     "data": {
      "text/plain": [
       "{0: np.int8(1),\n",
       " 1: np.int8(1),\n",
       " 2: np.int8(1),\n",
       " 3: np.int8(0),\n",
       " 4: np.int8(1),\n",
       " 5: np.int8(1),\n",
       " 6: np.int8(0),\n",
       " 7: np.int8(0),\n",
       " 8: np.int8(1)}"
      ]
     },
     "execution_count": 28,
     "metadata": {},
     "output_type": "execute_result"
    }
   ],
   "source": [
    "sampler = dimod.ExactSolver()\n",
    "sampler.sample(bqm).first.sample"
   ]
  },
  {
   "cell_type": "markdown",
   "metadata": {},
   "source": [
    "### Juega con el embedding\n",
    "\n",
    "Usando las herramientas proporcionadas en el módulo `minorminor` (en particular la función `minorminer.find_embedding`), encuentra un embedding para el problema que estás resolviendo y resuélvelo sobre la QPU real ajustando los pesos de las cadenas de qubits.\n",
    "\n",
    "Para facilitar el proceso, vamos a disminuir el tamaño del problema: quédate sólo con las 3 primeras empresas."
   ]
  }
 ],
 "metadata": {
  "kernelspec": {
   "display_name": "modelos_computacion",
   "language": "python",
   "name": "python3"
  },
  "language_info": {
   "codemirror_mode": {
    "name": "ipython",
    "version": 3
   },
   "file_extension": ".py",
   "mimetype": "text/x-python",
   "name": "python",
   "nbconvert_exporter": "python",
   "pygments_lexer": "ipython3",
   "version": "3.12.8"
  }
 },
 "nbformat": 4,
 "nbformat_minor": 2
}
